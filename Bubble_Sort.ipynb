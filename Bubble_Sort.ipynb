{
  "nbformat": 4,
  "nbformat_minor": 0,
  "metadata": {
    "colab": {
      "name": "Bubble_Sort.ipynb",
      "version": "0.3.2",
      "provenance": [],
      "include_colab_link": true
    },
    "kernelspec": {
      "name": "python3",
      "display_name": "Python 3"
    }
  },
  "cells": [
    {
      "cell_type": "markdown",
      "metadata": {
        "id": "view-in-github",
        "colab_type": "text"
      },
      "source": [
        "<a href=\"https://colab.research.google.com/github/PranaliDesai/Sorting_Algorithm/blob/master/Bubble_Sort.ipynb\" target=\"_parent\"><img src=\"https://colab.research.google.com/assets/colab-badge.svg\" alt=\"Open In Colab\"/></a>"
      ]
    },
    {
      "cell_type": "code",
      "metadata": {
        "id": "fQR5QbgGaiI9",
        "colab_type": "code",
        "colab": {}
      },
      "source": [
        "def create_array(size=10,max=50):\n",
        "  from random import randint\n",
        "  return [randint(0,max)for _ in range(size)]"
      ],
      "execution_count": 0,
      "outputs": []
    },
    {
      "cell_type": "code",
      "metadata": {
        "id": "2P9RDb17vtTx",
        "colab_type": "code",
        "colab": {}
      },
      "source": [
        "def bubble_sort(arr):\n",
        "  swapped = True\n",
        "  while swapped:\n",
        "    swapped = False\n",
        "    \n",
        "    for i in range(1, len(arr)):\n",
        "      if arr[i-1] > arr[i]:\n",
        "        arr[i], arr[i-1] = arr[i-1], arr[i]\n",
        "        swapped = True\n",
        "        \n",
        "  return arr"
      ],
      "execution_count": 0,
      "outputs": []
    },
    {
      "cell_type": "code",
      "metadata": {
        "id": "Cm3qYIoCv32B",
        "colab_type": "code",
        "colab": {
          "base_uri": "https://localhost:8080/",
          "height": 51
        },
        "outputId": "f29c2f71-b786-4ba6-9494-e639f875789b"
      },
      "source": [
        "a=create_array()\n",
        "print(a)\n",
        "s=bubble_sort(a)\n",
        "print(s)"
      ],
      "execution_count": 3,
      "outputs": [
        {
          "output_type": "stream",
          "text": [
            "[37, 39, 43, 23, 5, 21, 13, 1, 20, 47]\n",
            "[1, 5, 13, 20, 21, 23, 37, 39, 43, 47]\n"
          ],
          "name": "stdout"
        }
      ]
    }
  ]
}