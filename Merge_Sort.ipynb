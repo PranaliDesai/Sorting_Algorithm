{
  "nbformat": 4,
  "nbformat_minor": 0,
  "metadata": {
    "colab": {
      "name": "Merge_Sort.ipynb",
      "version": "0.3.2",
      "provenance": [],
      "include_colab_link": true
    },
    "kernelspec": {
      "name": "python3",
      "display_name": "Python 3"
    }
  },
  "cells": [
    {
      "cell_type": "markdown",
      "metadata": {
        "id": "view-in-github",
        "colab_type": "text"
      },
      "source": [
        "<a href=\"https://colab.research.google.com/github/PranaliDesai/Sorting_Algorithm/blob/master/Merge_Sort.ipynb\" target=\"_parent\"><img src=\"https://colab.research.google.com/assets/colab-badge.svg\" alt=\"Open In Colab\"/></a>"
      ]
    },
    {
      "cell_type": "code",
      "metadata": {
        "id": "LcYlDxiJwC8M",
        "colab_type": "code",
        "colab": {}
      },
      "source": [
        "def create_array(size=10,max=50):\n",
        "  from random import randint\n",
        "  return [randint(0,max)for _ in range(size)]"
      ],
      "execution_count": 0,
      "outputs": []
    },
    {
      "cell_type": "code",
      "metadata": {
        "id": "tKGdyM8fwN9N",
        "colab_type": "code",
        "colab": {}
      },
      "source": [
        "def merge(a,b):\n",
        "  c=[]\n",
        "  a_idx,b_idx=0,0\n",
        "  while a_idx<len(a) and b_idx<len(b):\n",
        "    if a[a_idx]<b[b_idx]:\n",
        "      c.append(a[a_idx])\n",
        "      a_idx+=1\n",
        "    else:\n",
        "      c.append(b[b_idx])\n",
        "      b_idx+=1\n",
        "  if a_idx==len(a):\n",
        "    c.extend(b[b_idx:])\n",
        "  else:\n",
        "    c.extend(a[a_idx:])\n",
        "  return c"
      ],
      "execution_count": 0,
      "outputs": []
    },
    {
      "cell_type": "code",
      "metadata": {
        "id": "ACDHAAHUyIQC",
        "colab_type": "code",
        "colab": {}
      },
      "source": [
        "def merge_sort(a):\n",
        "  if len(a)<=1:\n",
        "    return a\n",
        "\n",
        "  left= (merge_sort(a[:int(len(a)/2)]))\n",
        "  right=(merge_sort(a[int(len(a)/2):]))\n",
        "  return merge(left,right)"
      ],
      "execution_count": 0,
      "outputs": []
    },
    {
      "cell_type": "code",
      "metadata": {
        "id": "X_icJ4jKxMGT",
        "colab_type": "code",
        "colab": {
          "base_uri": "https://localhost:8080/",
          "height": 51
        },
        "outputId": "26a325c1-fdc1-486c-f0c5-22144f5dda57"
      },
      "source": [
        "a=create_array()\n",
        "print(a)\n",
        "s=merge_sort(a)\n",
        "print(s)"
      ],
      "execution_count": 23,
      "outputs": [
        {
          "output_type": "stream",
          "text": [
            "[49, 44, 2, 37, 35, 45, 2, 36, 48, 25]\n",
            "[2, 2, 25, 35, 36, 37, 44, 45, 48, 49]\n"
          ],
          "name": "stdout"
        }
      ]
    }
  ]
}