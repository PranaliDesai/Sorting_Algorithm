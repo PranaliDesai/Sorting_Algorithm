{
  "nbformat": 4,
  "nbformat_minor": 0,
  "metadata": {
    "colab": {
      "name": "Selection_Sort.ipynb",
      "version": "0.3.2",
      "provenance": [],
      "include_colab_link": true
    },
    "kernelspec": {
      "name": "python3",
      "display_name": "Python 3"
    }
  },
  "cells": [
    {
      "cell_type": "markdown",
      "metadata": {
        "id": "view-in-github",
        "colab_type": "text"
      },
      "source": [
        "<a href=\"https://colab.research.google.com/github/PranaliDesai/Sorting_Algorithm/blob/master/Selection_Sort.ipynb\" target=\"_parent\"><img src=\"https://colab.research.google.com/assets/colab-badge.svg\" alt=\"Open In Colab\"/></a>"
      ]
    },
    {
      "cell_type": "code",
      "metadata": {
        "id": "nVkUvv415EAW",
        "colab_type": "code",
        "colab": {}
      },
      "source": [
        "def create_array(size=10,max=50):\n",
        "  from random import randint\n",
        "  return [randint(0,max)for _ in range(size)]"
      ],
      "execution_count": 0,
      "outputs": []
    },
    {
      "cell_type": "code",
      "metadata": {
        "id": "uWuaviE45E0x",
        "colab_type": "code",
        "colab": {}
      },
      "source": [
        "def selection_sort(a):\n",
        "  sort_len=0\n",
        "  while sort_len<len(a):\n",
        "    min_idx=None\n",
        "    for i,elem in enumerate(a[sort_len:]):\n",
        "      if min_idx == None or elem<a[min_idx]:\n",
        "        min_idx=i+sort_len\n",
        "    a[sort_len],a[min_idx]=a[min_idx],a[sort_len]\n",
        "    sort_len+=1\n",
        "  return a"
      ],
      "execution_count": 0,
      "outputs": []
    },
    {
      "cell_type": "code",
      "metadata": {
        "id": "CY487WT45nFa",
        "colab_type": "code",
        "colab": {
          "base_uri": "https://localhost:8080/",
          "height": 51
        },
        "outputId": "d2828424-a9d2-4894-dd6c-abbcedd53b37"
      },
      "source": [
        "a=create_array()\n",
        "print(a)\n",
        "s=selection_sort(a)\n",
        "print(s)"
      ],
      "execution_count": 6,
      "outputs": [
        {
          "output_type": "stream",
          "text": [
            "[35, 4, 0, 49, 14, 47, 2, 23, 26, 18]\n",
            "[0, 2, 4, 14, 18, 23, 26, 35, 47, 49]\n"
          ],
          "name": "stdout"
        }
      ]
    }
  ]
}