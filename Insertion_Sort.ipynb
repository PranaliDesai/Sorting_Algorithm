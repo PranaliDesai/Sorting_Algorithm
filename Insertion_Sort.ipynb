{
  "nbformat": 4,
  "nbformat_minor": 0,
  "metadata": {
    "colab": {
      "name": "Insertion_Sort.ipynb",
      "version": "0.3.2",
      "provenance": [],
      "include_colab_link": true
    },
    "kernelspec": {
      "name": "python3",
      "display_name": "Python 3"
    }
  },
  "cells": [
    {
      "cell_type": "markdown",
      "metadata": {
        "id": "view-in-github",
        "colab_type": "text"
      },
      "source": [
        "<a href=\"https://colab.research.google.com/github/PranaliDesai/Sorting_Algorithm/blob/master/Insertion_Sort.ipynb\" target=\"_parent\"><img src=\"https://colab.research.google.com/assets/colab-badge.svg\" alt=\"Open In Colab\"/></a>"
      ]
    },
    {
      "cell_type": "code",
      "metadata": {
        "id": "bmp9glJyYiII",
        "colab_type": "code",
        "colab": {}
      },
      "source": [
        "def create_array(size=10,max=50):\n",
        "  from random import randint\n",
        "  return [randint(0,max)for _ in range(size)]"
      ],
      "execution_count": 0,
      "outputs": []
    },
    {
      "cell_type": "code",
      "metadata": {
        "id": "s915LEdVY91N",
        "colab_type": "code",
        "colab": {}
      },
      "source": [
        "def insertion_sort(a):\n",
        "  for sort_len in range(1,len(a)):\n",
        "    cur_item =a[sort_len]\n",
        "    insert_idx = sort_len\n",
        "    while insert_idx>0 and cur_item<a[insert_idx-1]:\n",
        "      a[insert_idx]=a[insert_idx-1]\n",
        "      insert_idx+=-1\n",
        "    a[insert_idx]=cur_item\n",
        "  return a\n"
      ],
      "execution_count": 0,
      "outputs": []
    },
    {
      "cell_type": "code",
      "metadata": {
        "id": "Ch60FNuZZkIb",
        "colab_type": "code",
        "colab": {
          "base_uri": "https://localhost:8080/",
          "height": 51
        },
        "outputId": "6c29a70d-d399-49ba-b252-b67c4f8ec5f8"
      },
      "source": [
        "a=create_array()\n",
        "print(a)\n",
        "k=insertion_sort(a)\n",
        "print(k)"
      ],
      "execution_count": 18,
      "outputs": [
        {
          "output_type": "stream",
          "text": [
            "[16, 13, 23, 38, 14, 20, 11, 7, 12, 24]\n",
            "[7, 11, 12, 13, 14, 16, 20, 23, 24, 38]\n"
          ],
          "name": "stdout"
        }
      ]
    }
  ]
}